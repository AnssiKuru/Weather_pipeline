{
 "cells": [
  {
   "cell_type": "markdown",
   "id": "d902a799",
   "metadata": {},
   "source": [
    "# 🌤️ Weather Pipeline - Säädatan koneoppimispipeline\n",
    "\n",
    "Tässä notebookissa rakennetaan säädatan hakuun ja analysointiin perustuva koneoppimispipeline."
   ]
  },
  {
   "cell_type": "markdown",
   "id": "3d1ca2d4",
   "metadata": {},
   "source": [
    "## 1. Datan haku Open-Meteo API:sta"
   ]
  },
  {
   "cell_type": "code",
   "execution_count": null,
   "id": "a81a2e61",
   "metadata": {},
   "outputs": [],
   "source": [
    "import pandas as pd\n",
    "import requests\n",
    "import os\n",
    "\n",
    "lat, lon = 60.1699, 24.9384\n",
    "start_date = \"2013-01-01\"\n",
    "end_date = \"2023-12-31\"\n",
    "\n",
    "url = (\n",
    "    f\"https://archive-api.open-meteo.com/v1/archive?\"\n",
    "    f\"latitude={lat}&longitude={lon}\"\n",
    "    f\"&start_date={start_date}&end_date={end_date}\"\n",
    "    f\"&daily=temperature_2m_max,temperature_2m_min,precipitation_sum\"\n",
    "    f\"&timezone=Europe/Helsinki\"\n",
    ")\n",
    "\n",
    "response = requests.get(url)\n",
    "data = response.json()\n",
    "\n",
    "df = pd.DataFrame(data[\"daily\"])\n",
    "df[\"time\"] = pd.to_datetime(df[\"time\"])\n",
    "df.set_index(\"time\", inplace=True)\n",
    "\n",
    "os.makedirs(\"data\", exist_ok=True)\n",
    "df.to_csv(\"data/weather_raw.csv\")\n",
    "df.head()"
   ]
  },
  {
   "cell_type": "markdown",
   "id": "26de866b",
   "metadata": {},
   "source": [
    "## 2. Datan esikäsittely"
   ]
  },
  {
   "cell_type": "code",
   "execution_count": null,
   "id": "38aef4b7",
   "metadata": {},
   "outputs": [],
   "source": [
    "df[\"temp_avg\"] = (df[\"temperature_2m_max\"] + df[\"temperature_2m_min\"]) / 2\n",
    "df[\"temp_avg_t-1\"] = df[\"temp_avg\"].shift(1)\n",
    "df[\"temp_avg_t-2\"] = df[\"temp_avg\"].shift(2)\n",
    "df[\"temp_avg_t-3\"] = df[\"temp_avg\"].shift(3)\n",
    "\n",
    "df = df.dropna()\n",
    "df.to_csv(\"data/weather_processed.csv\")\n",
    "df.tail()"
   ]
  },
  {
   "cell_type": "markdown",
   "id": "fa7e8229",
   "metadata": {},
   "source": [
    "## 3. Mallin koulutus"
   ]
  },
  {
   "cell_type": "code",
   "execution_count": null,
   "id": "fde20c06",
   "metadata": {},
   "outputs": [],
   "source": [
    "from sklearn.linear_model import LinearRegression\n",
    "from sklearn.model_selection import train_test_split\n",
    "\n",
    "X = df[[\"temp_avg_t-1\", \"temp_avg_t-2\", \"temp_avg_t-3\"]]\n",
    "y = df[\"temp_avg\"]\n",
    "\n",
    "X_train, X_test, y_train, y_test = train_test_split(X, y, test_size=0.2, shuffle=False)\n",
    "\n",
    "model = LinearRegression()\n",
    "model.fit(X_train, y_train)"
   ]
  },
  {
   "cell_type": "markdown",
   "id": "d1415e57",
   "metadata": {},
   "source": [
    "## 4. Mallin arviointi"
   ]
  },
  {
   "cell_type": "code",
   "execution_count": null,
   "id": "157efe02",
   "metadata": {},
   "outputs": [],
   "source": [
    "import matplotlib.pyplot as plt\n",
    "from sklearn.metrics import mean_absolute_error\n",
    "\n",
    "y_pred = model.predict(X_test)\n",
    "mae = mean_absolute_error(y_test, y_pred)\n",
    "print(f\"Mean Absolute Error: {mae:.2f} °C\")\n",
    "\n",
    "plt.figure(figsize=(12, 5))\n",
    "plt.plot(y_test.index, y_test, label=\"Todellinen\")\n",
    "plt.plot(y_test.index, y_pred, label=\"Ennuste\", linestyle=\"--\")\n",
    "plt.title(\"Keskilämpötila: Todellinen vs Ennuste\")\n",
    "plt.legend()\n",
    "plt.grid(True)\n",
    "\n",
    "os.makedirs(\"outputs\", exist_ok=True)\n",
    "plt.savefig(\"outputs/temperature_forecast.png\")\n",
    "plt.show()"
   ]
  },
  {
   "cell_type": "markdown",
   "id": "d3339538",
   "metadata": {},
   "source": [
    "## 5. Mallin tallennus"
   ]
  },
  {
   "cell_type": "code",
   "execution_count": null,
   "id": "42e925f2",
   "metadata": {},
   "outputs": [],
   "source": [
    "import pickle\n",
    "\n",
    "with open(\"outputs/weather_model.pkl\", \"wb\") as f:\n",
    "    pickle.dump(model, f)"
   ]
  }
 ],
 "metadata": {},
 "nbformat": 4,
 "nbformat_minor": 5
}
